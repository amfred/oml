{
 "cells": [
  {
   "cell_type": "code",
   "execution_count": 1,
   "metadata": {},
   "outputs": [
    {
     "name": "stdout",
     "output_type": "stream",
     "text": [
      "total 8\n",
      "-rw-r--r--@ 1 mmortari  staff  3299 Jun 17 10:22 model.joblib\n"
     ]
    }
   ],
   "source": [
    "import oml.helpers as oml\n",
    "\n",
    "oml.pull(target=\"localhost:8080/matteo/ml-artifact:latest\", outdir=\"tmp/model\", media_types=[\"application/x-artifact\"])\n",
    "\n",
    "%ls -lA tmp/model"
   ]
  },
  {
   "cell_type": "markdown",
   "metadata": {},
   "source": [
    "ModelCar's Dockerfile:\n",
    "\n",
    "```dockerfile\n",
    "FROM busybox\n",
    "RUN mkdir /models && chmod 775 /models\n",
    "COPY tmp/model/ /models/\n",
    "```"
   ]
  },
  {
   "cell_type": "code",
   "execution_count": 1,
   "metadata": {},
   "outputs": [
    {
     "name": "stdout",
     "output_type": "stream",
     "text": [
      "STEP 1/3: FROM busybox\n",
      "Resolved \"busybox\" as an alias (/etc/containers/registries.conf.d/000-shortnames.conf)\n",
      "Trying to pull docker.io/library/busybox:latest...\n",
      "Getting image source signatures\n",
      "Copying blob sha256:213a27df5921cd9ae24732504c590bb6408911c20fb50a597f2a40896d554a8f\n",
      "Copying config sha256:3fba0c87fcc8ba126bf99e4ee205b43c91ffc6b15bb052315312e71bc6296551\n",
      "Writing manifest to image destination\n",
      "STEP 2/3: RUN mkdir /models && chmod 775 /models\n",
      "--> 4c41b98df27a\n",
      "STEP 3/3: COPY tmp/model/ /models/\n",
      "COMMIT matteo/ml-iris:v1-modelcar\n",
      "--> 780cef67106e\n",
      "Successfully tagged localhost/matteo/ml-iris:v1-modelcar\n",
      "780cef67106eeaed3c68b1f4500515b5c3f98257ee08875280b52eeb827b5bd4\n",
      "Getting image source signatures\n",
      "Copying blob sha256:a2b778e47d8a95643819e1b1a92fce33985f6e39472c62c69b172a13f5317b26\n",
      "Copying blob sha256:a1d8fcd2d8014f56ebfd7710bc9487fe01364b8007acca13d75a0127e7f8247a\n",
      "Copying blob sha256:8e13bc96641a6983e79c9569873afe5800b0efb3993c3302763b9f5bc5fb8739\n",
      "Getting image source signatures\n",
      "Copying blob sha256:a2b778e47d8a95643819e1b1a92fce33985f6e39472c62c69b172a13f5317b26\n",
      "Copying blob sha256:8e13bc96641a6983e79c9569873afe5800b0efb3993c3302763b9f5bc5fb8739\n",
      "Copying blob sha256:a1d8fcd2d8014f56ebfd7710bc9487fe01364b8007acca13d75a0127e7f8247a\n",
      "Getting image source signatures\n",
      "Copying blob sha256:8e13bc96641a6983e79c9569873afe5800b0efb3993c3302763b9f5bc5fb8739\n",
      "Copying blob sha256:a2b778e47d8a95643819e1b1a92fce33985f6e39472c62c69b172a13f5317b26\n",
      "Copying blob sha256:a1d8fcd2d8014f56ebfd7710bc9487fe01364b8007acca13d75a0127e7f8247a\n",
      "Getting image source signatures\n",
      "Copying blob sha256:a2b778e47d8a95643819e1b1a92fce33985f6e39472c62c69b172a13f5317b26\n",
      "Copying blob sha256:a1d8fcd2d8014f56ebfd7710bc9487fe01364b8007acca13d75a0127e7f8247a\n",
      "Copying blob sha256:8e13bc96641a6983e79c9569873afe5800b0efb3993c3302763b9f5bc5fb8739\n",
      "Error: trying to reuse blob sha256:8e13bc96641a6983e79c9569873afe5800b0efb3993c3302763b9f5bc5fb8739 at destination: pinging container registry localhost:8080: Get \"http://localhost:8080/v2/\": dial tcp [::1]:8080: connect: connection refused\n"
     ]
    }
   ],
   "source": [
    "!podman build --load -t matteo/ml-iris:v1-modelcar -f Dockerfile.modelcar .\n",
    "!podman push --tls-verify=false matteo/ml-iris:v1-modelcar localhost:8080/matteo/ml-iris:v1-modelcar"
   ]
  },
  {
   "cell_type": "markdown",
   "metadata": {},
   "source": [
    "![image.png](./docs/imgs/Screenshot%202024-06-17%20at%2014.05.02.png)"
   ]
  },
  {
   "cell_type": "code",
   "execution_count": null,
   "metadata": {},
   "outputs": [],
   "source": []
  }
 ],
 "metadata": {
  "kernelspec": {
   "display_name": "oml-uQ20ZOu5-py3.10",
   "language": "python",
   "name": "python3"
  },
  "language_info": {
   "codemirror_mode": {
    "name": "ipython",
    "version": 3
   },
   "file_extension": ".py",
   "mimetype": "text/x-python",
   "name": "python",
   "nbconvert_exporter": "python",
   "pygments_lexer": "ipython3",
   "version": "3.10.13"
  }
 },
 "nbformat": 4,
 "nbformat_minor": 2
}
