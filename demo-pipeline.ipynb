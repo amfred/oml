{
 "cells": [
  {
   "cell_type": "code",
   "execution_count": 1,
   "metadata": {},
   "outputs": [
    {
     "name": "stdout",
     "output_type": "stream",
     "text": [
      "total 8\n",
      "-rw-r--r--@ 1 mmortari  staff  3299 Jun 17 10:22 model.joblib\n"
     ]
    }
   ],
   "source": [
    "import oml.helpers as oml\n",
    "\n",
    "oml.pull(target=\"localhost:8080/matteo/ml-artifact:latest\", outdir=\"tmp/model\", media_types=[\"application/x-artifact\"])\n",
    "\n",
    "%ls -lA tmp/model"
   ]
  },
  {
   "cell_type": "markdown",
   "metadata": {},
   "source": [
    "ModelCar's Dockerfile:\n",
    "\n",
    "```dockerfile\n",
    "FROM busybox\n",
    "RUN mkdir /models && chmod 775 /models\n",
    "COPY tmp/model/ /models/\n",
    "```"
   ]
  },
  {
   "cell_type": "code",
   "execution_count": null,
   "metadata": {},
   "outputs": [],
   "source": [
    "!podman build --load -t matteo/ml-iris:v1-modelcar -f Containerfile.modelcar .\n",
    "!podman push --tls-verify=false matteo/ml-iris:v1-modelcar localhost:8080/matteo/ml-iris:v1-modelcar"
   ]
  },
  {
   "cell_type": "markdown",
   "metadata": {},
   "source": [
    "![image.png](./docs/imgs/Screenshot%202024-06-17%20at%2014.05.02.png)"
   ]
  },
  {
   "cell_type": "code",
   "execution_count": null,
   "metadata": {},
   "outputs": [],
   "source": []
  }
 ],
 "metadata": {
  "kernelspec": {
   "display_name": "oml-uQ20ZOu5-py3.10",
   "language": "python",
   "name": "python3"
  },
  "language_info": {
   "codemirror_mode": {
    "name": "ipython",
    "version": 3
   },
   "file_extension": ".py",
   "mimetype": "text/x-python",
   "name": "python",
   "nbconvert_exporter": "python",
   "pygments_lexer": "ipython3",
   "version": "3.10.13"
  }
 },
 "nbformat": 4,
 "nbformat_minor": 2
}
